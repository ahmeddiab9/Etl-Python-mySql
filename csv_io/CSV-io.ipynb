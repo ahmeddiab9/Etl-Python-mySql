{
 "cells": [
  {
   "cell_type": "markdown",
   "metadata": {},
   "source": [
    "# CSV Library Intro"
   ]
  },
  {
   "cell_type": "code",
   "execution_count": 10,
   "metadata": {
    "collapsed": true
   },
   "outputs": [],
   "source": [
    "import csv"
   ]
  },
  {
   "cell_type": "markdown",
   "metadata": {},
   "source": [
    "**csv** (comma seperated values) are regular text files assuming a columnar strucuture\n",
    "\n",
    "normally - each line represents a record, and each field (sepereated with commas) represent value type"
   ]
  },
  {
   "cell_type": "markdown",
   "metadata": {},
   "source": [
    "### reading text files in python is easy:"
   ]
  },
  {
   "cell_type": "code",
   "execution_count": 30,
   "metadata": {
    "collapsed": true
   },
   "outputs": [],
   "source": [
    "def read_file_whole(fname):\n",
    "    # regular read\n",
    "    ifile  = open(fname, \"rb\")\n",
    "    reader = ifile.read()\n",
    "    print reader         \n",
    "    ifile.close()"
   ]
  },
  {
   "cell_type": "code",
   "execution_count": 31,
   "metadata": {},
   "outputs": [
    {
     "name": "stdout",
     "output_type": "stream",
     "text": [
      "1,PENELOPE,GUINESS\r\n",
      "2,NICK,WAHLBERG\r\n",
      "3,ED,CHASE\r\n",
      "4,JENNIFER,DAVIS\r\n",
      "5,JOHNNY,LOLLOBRIGIDA\r\n",
      "6,BETTE,NICHOLSON\r\n",
      "7,GRACE,MOSTEL\r\n",
      "8,MATTHEW,JOHANSSON\r\n",
      "9,JOE,SWANK\r\n",
      "10,CHRISTIAN,GABLE\r\n",
      "\n"
     ]
    }
   ],
   "source": [
    "read_file_whole('file1.csv')"
   ]
  },
  {
   "cell_type": "markdown",
   "metadata": {},
   "source": [
    "## We can read the file line-by-line as well, by iteratings the file"
   ]
  },
  {
   "cell_type": "code",
   "execution_count": 32,
   "metadata": {
    "collapsed": true
   },
   "outputs": [],
   "source": [
    "def read_file_lines(fname):\n",
    "    #line by line read\n",
    "    ifile  = open(fname, \"rb\") #binary read\n",
    "    for row in ifile:\n",
    "                print row\n",
    "                #you can use .split to split values\n",
    "    ifile.close()"
   ]
  },
  {
   "cell_type": "code",
   "execution_count": 33,
   "metadata": {},
   "outputs": [
    {
     "name": "stdout",
     "output_type": "stream",
     "text": [
      "1,PENELOPE,GUINESS\r\n",
      "\n",
      "2,NICK,WAHLBERG\r\n",
      "\n",
      "3,ED,CHASE\r\n",
      "\n",
      "4,JENNIFER,DAVIS\r\n",
      "\n",
      "5,JOHNNY,LOLLOBRIGIDA\r\n",
      "\n",
      "6,BETTE,NICHOLSON\r\n",
      "\n",
      "7,GRACE,MOSTEL\r\n",
      "\n",
      "8,MATTHEW,JOHANSSON\r\n",
      "\n",
      "9,JOE,SWANK\r\n",
      "\n",
      "10,CHRISTIAN,GABLE\r\n",
      "\n"
     ]
    }
   ],
   "source": [
    "read_file_lines('file1.csv')"
   ]
  },
  {
   "cell_type": "markdown",
   "metadata": {},
   "source": [
    "## By using csv library - we address the file as a list of lists - by lines and then columns"
   ]
  },
  {
   "cell_type": "code",
   "execution_count": 34,
   "metadata": {
    "collapsed": true
   },
   "outputs": [],
   "source": [
    "def read_file_csv(fname):\n",
    "    # read using csv library\n",
    "    ifile  = open(fname, \"rb\")\n",
    "    reader = csv.reader(ifile)\n",
    "    for row in reader:\n",
    "            for col in row:\n",
    "                print col,\n",
    "            print           \n",
    "    ifile.close()"
   ]
  },
  {
   "cell_type": "code",
   "execution_count": 35,
   "metadata": {},
   "outputs": [
    {
     "name": "stdout",
     "output_type": "stream",
     "text": [
      "1 PENELOPE GUINESS\n",
      "2 NICK WAHLBERG\n",
      "3 ED CHASE\n",
      "4 JENNIFER DAVIS\n",
      "5 JOHNNY LOLLOBRIGIDA\n",
      "6 BETTE NICHOLSON\n",
      "7 GRACE MOSTEL\n",
      "8 MATTHEW JOHANSSON\n",
      "9 JOE SWANK\n",
      "10 CHRISTIAN GABLE\n"
     ]
    }
   ],
   "source": [
    "read_file_csv('file1.csv')"
   ]
  },
  {
   "cell_type": "markdown",
   "metadata": {},
   "source": [
    "## We can use csv library for writing files as well:"
   ]
  },
  {
   "cell_type": "code",
   "execution_count": 36,
   "metadata": {
    "collapsed": true
   },
   "outputs": [],
   "source": [
    "def write_file(outname):\n",
    "    ifile  = open(outname, \"wb\") # binary write\n",
    "    writer = csv.writer(ifile)\n",
    "    writer.writerows([[3,4,2],['tt','r','e']])\n",
    "    ifile.close()"
   ]
  },
  {
   "cell_type": "code",
   "execution_count": 37,
   "metadata": {
    "collapsed": true
   },
   "outputs": [],
   "source": [
    "write_file('file3.csv')"
   ]
  },
  {
   "cell_type": "markdown",
   "metadata": {},
   "source": [
    "## CSV dialect"
   ]
  },
  {
   "cell_type": "markdown",
   "metadata": {},
   "source": [
    "some of the csv files are given in a different dialect (non-standart format of seperators, linebreaks etc..)\n",
    "\n",
    "Sniffer method can recieve a sample of csv file, recognize the dialect - and then we can use it for proper reading"
   ]
  },
  {
   "cell_type": "code",
   "execution_count": 38,
   "metadata": {
    "collapsed": true
   },
   "outputs": [],
   "source": [
    "def change_format(infile,outfile):\n",
    "    #change from given dialect to standart\n",
    "    ifile  = open(infile, \"rb\")\n",
    "    dialect = csv.Sniffer().sniff(ifile.read(1024))\n",
    "    ifile.seek(0) #go back to start\n",
    "    reader = csv.reader(ifile, dialect)\n",
    "    ofile  = open(outfile, \"wb\")\n",
    "    writer = csv.writer(ofile)\n",
    "    writer.writerows(reader)  \n",
    "    ifile.close()\n",
    "    ofile.close()"
   ]
  },
  {
   "cell_type": "code",
   "execution_count": 46,
   "metadata": {
    "collapsed": true
   },
   "outputs": [],
   "source": [
    "change_format('simpsons_phone_book.csv','simpsonsout.csv')"
   ]
  },
  {
   "cell_type": "code",
   "execution_count": 47,
   "metadata": {},
   "outputs": [
    {
     "name": "stdout",
     "output_type": "stream",
     "text": [
      "Allison Neu 555-8396\n",
      "Bob Newhall 555-4344\n",
      "Montgomery Burns 555-0001\n",
      "Montgomery Burns 555-0113\n",
      "Canine College 555-7201\n",
      "Canine Therapy-Institute 555-2849\n",
      "Cathy Neu 555-2362\n",
      "Julius Hibbert 555-3642\n",
      "Nick Riviera 555-NICK\n",
      "Family Therapy-Center 555-HUGS\n",
      "Homer Simpson 555-3223\n",
      "Homer Simpson 555-7334\n",
      "Jack Neu 555-7666\n",
      "Jeb Neu 555-5543\n",
      "Jennifer Neu 555-3652\n",
      "Ken Neu 555-8752\n",
      "Lionel Putz 555-5299\n",
      "MAD Magazine 555-8628\n",
      "Marital Hotline 555-1680\n",
      "Marvin Monroe 555-3700\n",
      "Moe Szyslak 555-0000\n",
      "Moe's Tavern 555-1239\n",
      "Mr. Plow 555-3226\n",
      "NY Metro 555-5680\n",
      "Ned Flanders 555-8904\n",
      "Otto's How's my Driving 555-8821\n",
      "Plow King 555-4796\n",
      "Pretzel Wagon 555-3226\n",
      "Radio Psychaiatrist 555-7246\n",
      "Richard Nash 555-9996\n",
      "Richard Newhall 555-9973\n",
      "Ruff-form Dog-School 555-0078\n",
      "Sleep-Eazy Motel 555-1000\n",
      "Sugar Truck 555-3872\n",
      "Susan Newhall 555-2362\n",
      "Nuclear Powerplant 555-5246\n",
      "Simpsons' residence 555-8707\n",
      "Toby Muntz 555-9972\n"
     ]
    }
   ],
   "source": [
    "read_file_csv('simpsonsout.csv')"
   ]
  }
 ],
 "metadata": {
  "kernelspec": {
   "display_name": "Python 2",
   "language": "python",
   "name": "python2"
  },
  "language_info": {
   "codemirror_mode": {
    "name": "ipython",
    "version": 2
   },
   "file_extension": ".py",
   "mimetype": "text/x-python",
   "name": "python",
   "nbconvert_exporter": "python",
   "pygments_lexer": "ipython2",
   "version": "2.7.13"
  }
 },
 "nbformat": 4,
 "nbformat_minor": 2
}
